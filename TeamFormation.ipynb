{
 "cells": [
  {
   "cell_type": "code",
   "execution_count": 74,
   "metadata": {},
   "outputs": [
    {
     "name": "stdout",
     "output_type": "stream",
     "text": [
      "                Player    Country              Opponent  Matches  Innings  \\\n",
      "0          Virat Kohli      India           Afghanistan        3        2   \n",
      "1          Virat Kohli      India             Australia       48       46   \n",
      "2          Virat Kohli      India            Bangladesh       16       16   \n",
      "3          Virat Kohli      India               England       36       36   \n",
      "4          Virat Kohli      India               Ireland        2        2   \n",
      "...                ...        ...                   ...      ...      ...   \n",
      "1119  Charith Asalanka  Sri Lanka          South Africa        4        4   \n",
      "1120  Charith Asalanka  Sri Lanka  United Arab Emirates        1        1   \n",
      "1121  Charith Asalanka  Sri Lanka           West Indies        1        0   \n",
      "1122  Charith Asalanka  Sri Lanka              Zimbabwe        4        3   \n",
      "1123  Charith Asalanka  Sri Lanka          Overall (15)       50       44   \n",
      "\n",
      "      Not_Out  Hundreds  Fifties  Runs  Average  \n",
      "0           1         0        2   122   122.00  \n",
      "1           3         8       13  2313    53.79  \n",
      "2           4         5        3   910    75.83  \n",
      "3           4         3        9  1340    41.88  \n",
      "4           1         0        0    78    78.00  \n",
      "...       ...       ...      ...   ...      ...  \n",
      "1119        0         0        3   275    68.75  \n",
      "1120        1         0        0    48      NaN  \n",
      "1121        0         0        0     0      NaN  \n",
      "1122        0         0        2   146    48.67  \n",
      "1123        5         2       10  1560    40.00  \n",
      "\n",
      "[1124 rows x 10 columns]\n"
     ]
    }
   ],
   "source": [
    "import requests\n",
    "from bs4 import BeautifulSoup\n",
    "import pandas as pd\n",
    "import warnings\n",
    "\n",
    "warnings.filterwarnings(\"ignore\")\n",
    "Top4 = ['India' , 'Pakistan' , 'Australia' , 'South Africa']\n",
    "batsmen = pd.read_csv('batting_scrapped.csv')\n",
    "bowler_df = pd.read_csv('bowlers_scrapped.csv')\n",
    "print(batsmen)"
   ]
  },
  {
   "cell_type": "markdown",
   "metadata": {},
   "source": [
    "We will use scrapped data of task1 in team prediction."
   ]
  },
  {
   "cell_type": "markdown",
   "metadata": {},
   "source": [
    "We will only consider potential perfomance of players against teams in Top 4"
   ]
  },
  {
   "cell_type": "code",
   "execution_count": 75,
   "metadata": {},
   "outputs": [
    {
     "name": "stdout",
     "output_type": "stream",
     "text": [
      "             Player   Country      Opponent  Matches  Innings  Not_Out  \\\n",
      "1       Virat Kohli     India     Australia       48       46        3   \n",
      "8       Virat Kohli     India      Pakistan       16       16        3   \n",
      "9       Virat Kohli     India  South Africa       31       29        6   \n",
      "16     Rohit Sharma     India     Australia       44       44        4   \n",
      "24     Rohit Sharma     India      Pakistan       19       19        2   \n",
      "..              ...       ...           ...      ...      ...      ...   \n",
      "472     Shadab Khan  Pakistan         India        8        6        2   \n",
      "476     Shadab Khan  Pakistan  South Africa       10        7        2   \n",
      "482  Mohammad Nawaz  Pakistan     Australia        2        2        0   \n",
      "485  Mohammad Nawaz  Pakistan         India        3        2        1   \n",
      "490  Mohammad Nawaz  Pakistan  South Africa        2        2        0   \n",
      "\n",
      "     Hundreds  Fifties  Runs  Average  \n",
      "1           8       13  2313    53.79  \n",
      "8           3        2   678    52.15  \n",
      "9           5        8  1504    65.39  \n",
      "16          8        9  2332    58.30  \n",
      "24          2        8   873    51.35  \n",
      "..        ...      ...   ...      ...  \n",
      "472         0        0    60    15.00  \n",
      "476         0        0   145    29.00  \n",
      "482         0        0    15     7.50  \n",
      "485         0        0    19    19.00  \n",
      "490         0        0    28    14.00  \n",
      "\n",
      "[95 rows x 10 columns]\n"
     ]
    }
   ],
   "source": [
    "# filtering player stats for Top 4 teams\n",
    "batsmen= batsmen[batsmen['Opponent'].isin(Top4)]\n",
    "batsmen= batsmen[batsmen['Country'].isin(Top4)]\n",
    "bowler_df= bowler_df[bowler_df['Opponent'].isin(Top4)]\n",
    "bowler_df= bowler_df[bowler_df['Country'].isin(Top4)]\n",
    "print(batsmen)"
   ]
  },
  {
   "cell_type": "code",
   "execution_count": 63,
   "metadata": {},
   "outputs": [
    {
     "name": "stdout",
     "output_type": "stream",
     "text": [
      "             Player       Country      Opponent  Matches  Overs  Maidens  \\\n",
      "297  Shardul Thakur         India     Australia        5   31.0        1   \n",
      "303  Shardul Thakur         India      Pakistan        3    6.0        0   \n",
      "304  Shardul Thakur         India  South Africa        6   38.5        2   \n",
      "310  Jasprit Bumrah         India     Australia       20  185.3        9   \n",
      "315  Jasprit Bumrah         India      Pakistan        8   51.1        5   \n",
      "316  Jasprit Bumrah         India  South Africa       12   95.0        3   \n",
      "322   Kuldeep Yadav         India     Australia       21  188.0        4   \n",
      "329   Kuldeep Yadav         India      Pakistan        6   45.0        1   \n",
      "330   Kuldeep Yadav         India  South Africa       11   87.2        3   \n",
      "336  Mohammad Shami         India     Australia       24  198.4        8   \n",
      "343  Mohammad Shami         India      Pakistan        3   28.0        5   \n",
      "344  Mohammad Shami         India  South Africa        5   40.0        2   \n",
      "350  Mohammad Siraj         India     Australia        6   41.1        3   \n",
      "356  Mohammad Siraj         India      Pakistan        3   13.0        0   \n",
      "357  Mohammad Siraj         India  South Africa        4   27.0        2   \n",
      "363  Keshav Maharaj  South Africa     Australia        8   73.1        5   \n",
      "366  Keshav Maharaj  South Africa         India        6   54.0        1   \n",
      "370  Keshav Maharaj  South Africa      Pakistan        2   19.0        1   \n",
      "374     Luigi Ngidi  South Africa     Australia        9   74.1        6   \n",
      "377     Luigi Ngidi  South Africa         India       10   82.2        2   \n",
      "381     Luigi Ngidi  South Africa      Pakistan        4   35.4        1   \n",
      "387   Kagiso Rabada  South Africa     Australia       15  122.2        6   \n",
      "390   Kagiso Rabada  South Africa         India       15  137.2        9   \n",
      "394   Kagiso Rabada  South Africa      Pakistan        9   80.1        7   \n",
      "399  Tabraiz Shamsi  South Africa     Australia        8   71.5        2   \n",
      "402  Tabraiz Shamsi  South Africa         India        7   59.0        2   \n",
      "406  Tabraiz Shamsi  South Africa      Pakistan        5   46.0        0   \n",
      "414     Pat Cummins     Australia         India       20  183.4        9   \n",
      "418     Pat Cummins     Australia      Pakistan        8   72.1        3   \n",
      "420     Pat Cummins     Australia  South Africa       12  106.0        6   \n",
      "427      Adam Zampa     Australia         India       22  199.0        1   \n",
      "431      Adam Zampa     Australia      Pakistan       11  106.4        1   \n",
      "432      Adam Zampa     Australia  South Africa       17  145.5        4   \n",
      "440  Mitchell Starc     Australia         India       18  153.3        3   \n",
      "444  Mitchell Starc     Australia      Pakistan       11   99.0        7   \n",
      "446  Mitchell Starc     Australia  South Africa       15  124.3        6   \n",
      "454  Josh Hazlewood     Australia         India       10   90.3        4   \n",
      "457  Josh Hazlewood     Australia      Pakistan        6   58.5        4   \n",
      "458  Josh Hazlewood     Australia  South Africa       16  143.5       12   \n",
      "\n",
      "     Runs  Wickets  Encoded_Player  Encoded_Country  Encoded_Opponent  \n",
      "297   219        3              11                1                 1  \n",
      "303    28        1              11                1                14  \n",
      "304   238        8              11                1                16  \n",
      "310   981       28               1                1                 1  \n",
      "315   232        7               1                1                14  \n",
      "316   381       17               1                1                16  \n",
      "322  1132       31               5                1                 1  \n",
      "329   170       12               5                1                14  \n",
      "330   395       26               5                1                16  \n",
      "336  1201       38               8                1                 1  \n",
      "343   107        5               8                1                14  \n",
      "344   233       13               8                1                16  \n",
      "350   273        7               9                1                 1  \n",
      "356    73        2               9                1                14  \n",
      "357   115        6               9                1                16  \n",
      "363   311       11               4                2                 1  \n",
      "366   231        5               4                2                 5  \n",
      "370   101        3               4                2                14  \n",
      "374   371       19               6                2                 1  \n",
      "377   497       18               6                2                 5  \n",
      "381   240        5               6                2                14  \n",
      "387   724       29               3                2                 1  \n",
      "390   699       21               3                2                 5  \n",
      "394   410        7               3                2                14  \n",
      "399   361       15              12                2                 1  \n",
      "402   390        6              12                2                 5  \n",
      "406   302        9              12                2                14  \n",
      "414   963       26              10                0                 5  \n",
      "418   346       15              10                0                14  \n",
      "420   618       17              10                0                16  \n",
      "427  1129       34               0                0                 5  \n",
      "431   589       21               0                0                14  \n",
      "432   889       19               0                0                16  \n",
      "440   925       27               7                0                 5  \n",
      "444   480       24               7                0                14  \n",
      "446   698       21               7                0                16  \n",
      "454   484       15               2                0                 5  \n",
      "457   264       12               2                0                14  \n",
      "458   746       26               2                0                16  \n"
     ]
    }
   ],
   "source": [
    "\n",
    "print(bowler_df)"
   ]
  },
  {
   "cell_type": "markdown",
   "metadata": {},
   "source": [
    "We have to convert string data to numeric type"
   ]
  },
  {
   "cell_type": "code",
   "execution_count": 76,
   "metadata": {},
   "outputs": [],
   "source": [
    "batsmen['Average'] = pd.to_numeric(batsmen['Average'], errors='coerce')\n",
    "batsmen['Matches'] = pd.to_numeric(batsmen['Matches'], errors='coerce')\n",
    "batsmen['Innings'] = pd.to_numeric(batsmen['Innings'], errors='coerce')\n",
    "batsmen['Hundreds'] = pd.to_numeric(batsmen['Hundreds'], errors='coerce')\n",
    "batsmen['Fifties'] = pd.to_numeric(batsmen['Fifties'], errors='coerce')\n",
    "batsmen['Runs'] = pd.to_numeric(batsmen['Runs'], errors='coerce')"
   ]
  },
  {
   "cell_type": "markdown",
   "metadata": {},
   "source": [
    "We are assuming that Playing 11 will consist of 6 batsmen and 5 bowlers.\n",
    "We will select Top performers for each team"
   ]
  },
  {
   "cell_type": "markdown",
   "metadata": {},
   "source": [
    "We have to encode player and country names."
   ]
  },
  {
   "cell_type": "code",
   "execution_count": 9,
   "metadata": {},
   "outputs": [],
   "source": [
    "from sklearn.preprocessing import LabelEncoder\n",
    "label_encoder_players = LabelEncoder()\n",
    "batsmen['Encoded_Player'] = label_encoder_players.fit_transform(batsmen['Player'])\n",
    "label_encoder_teams = LabelEncoder()\n",
    "label_encoder_teams.fit(Top4)\n",
    "batsmen['Encoded_Country'] = label_encoder_teams.fit_transform(batsmen['Country'])\n",
    "batsmen['Encoded_Opponent'] = label_encoder_teams.fit_transform(batsmen['Opponent'])  "
   ]
  },
  {
   "cell_type": "code",
   "execution_count": 10,
   "metadata": {},
   "outputs": [
    {
     "name": "stdout",
     "output_type": "stream",
     "text": [
      "     Encoded_Player  Encoded_Country  Encoded_Opponent  Matches  Runs\n",
      "1                32                1                 0       48  2313\n",
      "8                32                1                 2       16   678\n",
      "9                32                1                 3       31  1504\n",
      "16               22                1                 0       44  2332\n",
      "24               22                1                 2       19   873\n",
      "..              ...              ...               ...      ...   ...\n",
      "472              25                2                 1        8    60\n",
      "476              25                2                 3       10   145\n",
      "482              17                2                 0        2    15\n",
      "485              17                2                 1        3    19\n",
      "490              17                2                 3        2    28\n",
      "\n",
      "[95 rows x 5 columns]\n"
     ]
    }
   ],
   "source": [
    "Train_df = batsmen[['Encoded_Player' , 'Encoded_Country' , 'Encoded_Opponent' , 'Matches' , 'Runs']]\n",
    "print(Train_df)"
   ]
  },
  {
   "cell_type": "code",
   "execution_count": 11,
   "metadata": {},
   "outputs": [],
   "source": [
    "import pandas as pd\n",
    "import numpy as np\n",
    "from sklearn.model_selection import train_test_split\n",
    "from sklearn.preprocessing import StandardScaler\n",
    "from sklearn.metrics import accuracy_score\n",
    "import tensorflow as tf\n",
    "from tensorflow import keras\n",
    "from tensorflow.keras import layers\n",
    "from sklearn.ensemble import RandomForestRegressor\n",
    "from sklearn.metrics import r2_score"
   ]
  },
  {
   "cell_type": "code",
   "execution_count": 12,
   "metadata": {},
   "outputs": [],
   "source": [
    "X = Train_df[['Encoded_Player' , 'Encoded_Country' , 'Encoded_Opponent' , 'Matches']]\n",
    "y = Train_df[['Runs']]\n",
    "X['Matches'] = pd.to_numeric(X['Matches'], errors='coerce')\n",
    "y['Runs'] = pd.to_numeric(y['Runs'], errors='coerce')"
   ]
  },
  {
   "cell_type": "code",
   "execution_count": 13,
   "metadata": {},
   "outputs": [],
   "source": [
    "X_train, X_test, y_train, y_test = train_test_split(X, y, test_size=0.2, random_state=42)"
   ]
  },
  {
   "cell_type": "code",
   "execution_count": 14,
   "metadata": {},
   "outputs": [
    {
     "name": "stdout",
     "output_type": "stream",
     "text": [
      "1/1 [==============================] - 0s 37ms/step\n",
      "R-squared on Test Set: 0.8244753683024628\n"
     ]
    }
   ],
   "source": [
    "model = keras.Sequential([\n",
    "    layers.Dense(64, activation='relu', input_shape=(X_train.shape[1],)),\n",
    "    layers.Dense(128, activation='relu'),\n",
    "    layers.Dense(64, activation='relu'),\n",
    "    layers.Dense(1)\n",
    "])\n",
    "\n",
    "model.compile(optimizer='adam', loss='mean_squared_error')\n",
    "model.fit(X_train, y_train, epochs=50, batch_size=32, validation_data=(X_test, y_test), verbose=0)\n",
    "y_pred_dnn = model.predict(X_test)\n",
    "r2_test = r2_score(y_test, y_pred_dnn)\n",
    "print(f'R-squared on Test Set: {r2_test}')"
   ]
  },
  {
   "cell_type": "code",
   "execution_count": 15,
   "metadata": {},
   "outputs": [
    {
     "name": "stdout",
     "output_type": "stream",
     "text": [
      "                    Player  Encoded_Player       Country  Encoded_Country\n",
      "1              Virat Kohli              32         India                1\n",
      "16            Rohit Sharma              22         India                1\n",
      "31            Shubman Gill              27         India                1\n",
      "44            Shreyas Iyer              26         India                1\n",
      "55        Suryakumar Yadav              29         India                1\n",
      "65           Hardik Pandya              10         India                1\n",
      "76         Ravindra Jadeja              20         India                1\n",
      "91     Ravichandran Ashwin              19         India                1\n",
      "104           Temba Bavuma              30  South Africa                3\n",
      "115        Reeza Hendricks              21  South Africa                3\n",
      "125          Aiden Markram               2  South Africa                3\n",
      "138           David Miller               6  South Africa                3\n",
      "152  Rassie van der Dussen              18  South Africa                3\n",
      "163           Marco Jansen              13  South Africa                3\n",
      "174     Andile Phehlukwayo               3  South Africa                3\n",
      "190           Steven Smith              28     Australia                0\n",
      "205            Travis Head              31     Australia                0\n",
      "216           David Warner               7     Australia                0\n",
      "230     Marnus Labuschagne              15     Australia                0\n",
      "238         Cameroon Green               5     Australia                0\n",
      "249          Mitchel Marsh              16     Australia                0\n",
      "262          Glenn Maxwell               9     Australia                0\n",
      "276         Marcus Stoinis              14     Australia                0\n",
      "286             Sean Abbot              24     Australia                0\n",
      "386             Babar Azam               4      Pakistan                2\n",
      "401      Abdullah Shafique               0      Pakistan                2\n",
      "411           Fakhar Zaman               8      Pakistan                2\n",
      "425            Imam-ul-Haq              12      Pakistan                2\n",
      "439         Iftikhar Ahmed              11      Pakistan                2\n",
      "453            Agha Salman               1      Pakistan                2\n",
      "459           Saud Shakeel              23      Pakistan                2\n",
      "472            Shadab Khan              25      Pakistan                2\n",
      "482         Mohammad Nawaz              17      Pakistan                2\n"
     ]
    }
   ],
   "source": [
    "player_country = batsmen[['Player' , 'Encoded_Player' , 'Country' , 'Encoded_Country']]\n",
    "player_country.drop_duplicates(inplace=True)\n",
    "print(player_country)"
   ]
  },
  {
   "cell_type": "code",
   "execution_count": 16,
   "metadata": {},
   "outputs": [],
   "source": [
    "# A helper function to get the encoded_country\n",
    "\n",
    "def get_encoded_country(input_country):\n",
    "    \n",
    "    for index, row in player_country.iterrows():\n",
    "        if(row['Country']==input_country) :\n",
    "            return row['Encoded_Country']\n",
    "    return 'Error'"
   ]
  },
  {
   "cell_type": "markdown",
   "metadata": {},
   "source": [
    "Now We will calculate sum of predicted runs against other three teams."
   ]
  },
  {
   "cell_type": "code",
   "execution_count": 18,
   "metadata": {},
   "outputs": [
    {
     "name": "stdout",
     "output_type": "stream",
     "text": [
      "1/1 [==============================] - 0s 23ms/step\n",
      "1/1 [==============================] - 0s 20ms/step\n",
      "1/1 [==============================] - 0s 20ms/step\n",
      "1/1 [==============================] - 0s 18ms/step\n",
      "1/1 [==============================] - 0s 18ms/step\n",
      "1/1 [==============================] - 0s 26ms/step\n",
      "1/1 [==============================] - 0s 20ms/step\n",
      "1/1 [==============================] - 0s 18ms/step\n",
      "1/1 [==============================] - 0s 19ms/step\n",
      "1/1 [==============================] - 0s 21ms/step\n",
      "1/1 [==============================] - 0s 18ms/step\n",
      "1/1 [==============================] - 0s 22ms/step\n",
      "1/1 [==============================] - 0s 26ms/step\n",
      "1/1 [==============================] - 0s 18ms/step\n",
      "1/1 [==============================] - 0s 17ms/step\n",
      "1/1 [==============================] - 0s 18ms/step\n",
      "1/1 [==============================] - 0s 18ms/step\n",
      "1/1 [==============================] - 0s 18ms/step\n",
      "1/1 [==============================] - 0s 17ms/step\n",
      "1/1 [==============================] - 0s 18ms/step\n",
      "1/1 [==============================] - 0s 17ms/step\n",
      "1/1 [==============================] - 0s 18ms/step\n",
      "1/1 [==============================] - 0s 18ms/step\n",
      "1/1 [==============================] - 0s 18ms/step\n",
      "1/1 [==============================] - 0s 18ms/step\n",
      "1/1 [==============================] - 0s 23ms/step\n",
      "1/1 [==============================] - 0s 20ms/step\n",
      "1/1 [==============================] - 0s 21ms/step\n",
      "1/1 [==============================] - 0s 21ms/step\n",
      "1/1 [==============================] - 0s 22ms/step\n",
      "1/1 [==============================] - 0s 21ms/step\n",
      "1/1 [==============================] - 0s 22ms/step\n",
      "1/1 [==============================] - 0s 21ms/step\n",
      "1/1 [==============================] - 0s 21ms/step\n",
      "1/1 [==============================] - 0s 25ms/step\n",
      "1/1 [==============================] - 0s 29ms/step\n",
      "1/1 [==============================] - 0s 20ms/step\n",
      "1/1 [==============================] - 0s 18ms/step\n",
      "1/1 [==============================] - 0s 20ms/step\n",
      "1/1 [==============================] - 0s 22ms/step\n",
      "1/1 [==============================] - 0s 20ms/step\n",
      "1/1 [==============================] - 0s 25ms/step\n",
      "1/1 [==============================] - 0s 22ms/step\n",
      "1/1 [==============================] - 0s 21ms/step\n",
      "1/1 [==============================] - 0s 22ms/step\n",
      "1/1 [==============================] - 0s 20ms/step\n",
      "1/1 [==============================] - 0s 21ms/step\n",
      "1/1 [==============================] - 0s 21ms/step\n",
      "1/1 [==============================] - 0s 21ms/step\n",
      "1/1 [==============================] - 0s 22ms/step\n",
      "1/1 [==============================] - 0s 21ms/step\n",
      "1/1 [==============================] - 0s 21ms/step\n",
      "1/1 [==============================] - 0s 19ms/step\n",
      "1/1 [==============================] - 0s 22ms/step\n",
      "1/1 [==============================] - 0s 22ms/step\n",
      "1/1 [==============================] - 0s 24ms/step\n",
      "1/1 [==============================] - 0s 18ms/step\n",
      "1/1 [==============================] - 0s 17ms/step\n",
      "1/1 [==============================] - 0s 18ms/step\n",
      "1/1 [==============================] - 0s 21ms/step\n",
      "1/1 [==============================] - 0s 21ms/step\n",
      "1/1 [==============================] - 0s 20ms/step\n",
      "1/1 [==============================] - 0s 21ms/step\n",
      "1/1 [==============================] - 0s 21ms/step\n",
      "1/1 [==============================] - 0s 21ms/step\n",
      "1/1 [==============================] - 0s 22ms/step\n",
      "1/1 [==============================] - 0s 21ms/step\n",
      "1/1 [==============================] - 0s 21ms/step\n",
      "1/1 [==============================] - 0s 20ms/step\n",
      "1/1 [==============================] - 0s 21ms/step\n",
      "1/1 [==============================] - 0s 19ms/step\n",
      "1/1 [==============================] - 0s 18ms/step\n",
      "1/1 [==============================] - 0s 18ms/step\n",
      "1/1 [==============================] - 0s 21ms/step\n",
      "1/1 [==============================] - 0s 19ms/step\n",
      "1/1 [==============================] - 0s 20ms/step\n",
      "1/1 [==============================] - 0s 21ms/step\n",
      "1/1 [==============================] - 0s 21ms/step\n",
      "1/1 [==============================] - 0s 21ms/step\n",
      "1/1 [==============================] - 0s 22ms/step\n",
      "1/1 [==============================] - 0s 21ms/step\n",
      "1/1 [==============================] - 0s 20ms/step\n",
      "1/1 [==============================] - 0s 20ms/step\n",
      "1/1 [==============================] - 0s 17ms/step\n",
      "1/1 [==============================] - 0s 19ms/step\n",
      "1/1 [==============================] - 0s 18ms/step\n",
      "1/1 [==============================] - 0s 18ms/step\n",
      "1/1 [==============================] - 0s 17ms/step\n",
      "1/1 [==============================] - 0s 17ms/step\n",
      "1/1 [==============================] - 0s 18ms/step\n",
      "1/1 [==============================] - 0s 18ms/step\n",
      "1/1 [==============================] - 0s 18ms/step\n",
      "1/1 [==============================] - 0s 17ms/step\n",
      "1/1 [==============================] - 0s 17ms/step\n",
      "1/1 [==============================] - 0s 18ms/step\n",
      "1/1 [==============================] - 0s 18ms/step\n",
      "1/1 [==============================] - 0s 18ms/step\n",
      "1/1 [==============================] - 0s 17ms/step\n",
      "1/1 [==============================] - 0s 17ms/step\n"
     ]
    }
   ],
   "source": [
    "player_runs = {}\n",
    "for index , row in player_country.iterrows() :\n",
    "    player_runs[row['Player']] = 0\n",
    "\n",
    "cnt = 0\n",
    "for opponent in Top4 :\n",
    "    for index , row in player_country.iterrows() :\n",
    "        if(row['Country']!=opponent) :  \n",
    "            \n",
    "            runs = model.predict([[row['Encoded_Player'], row['Encoded_Country'], get_encoded_country(opponent), 1]])\n",
    "            player_runs[row['Player']]+= (int(runs[0][0])) "
   ]
  },
  {
   "cell_type": "code",
   "execution_count": 32,
   "metadata": {},
   "outputs": [
    {
     "name": "stdout",
     "output_type": "stream",
     "text": [
      "---------------  Indian Batsmen Potential Scores ------------------\n",
      "\n",
      "Virat Kohli : 326\n",
      "Suryakumar Yadav : 299\n",
      "Shubman Gill : 280\n",
      "Shreyas Iyer : 271\n",
      "Rohit Sharma : 233\n",
      "Ravindra Jadeja : 215\n",
      "Ravichandran Ashwin : 205\n",
      "Hardik Pandya : 126\n"
     ]
    }
   ],
   "source": [
    "def get_player_country(Name) :\n",
    "    for index , row in player_country.iterrows() :\n",
    "        if(row['Player'] == Name):\n",
    "            return row['Country']\n",
    "    return 'None'\n",
    "\n",
    "\n",
    "\n",
    "from collections import OrderedDict\n",
    "sorted_list = OrderedDict(sorted(player_runs.items(), key=lambda item: item[1], reverse=True))\n",
    "\n",
    "# Getting Top Batsmen of India\n",
    "\n",
    "print('---------------  Indian Batsmen Potential Scores ------------------')\n",
    "print(\"\")\n",
    "for pl in sorted_list :\n",
    "    if(get_player_country(pl)=='India'):\n",
    "        print(f'{pl} : {sorted_list[pl]}')"
   ]
  },
  {
   "cell_type": "code",
   "execution_count": 34,
   "metadata": {},
   "outputs": [
    {
     "name": "stdout",
     "output_type": "stream",
     "text": [
      "---------------  Pakistan Batsmen Potential Scores ------------------\n",
      "\n",
      "Shadab Khan : 248\n",
      "Saud Shakeel : 229\n",
      "Mohammad Nawaz : 175\n",
      "Imam-ul-Haq : 132\n",
      "Iftikhar Ahmed : 125\n",
      "Fakhar Zaman : 103\n",
      "Babar Azam : 86\n",
      "Abdullah Shafique : 84\n",
      "Agha Salman : 83\n"
     ]
    }
   ],
   "source": [
    "# Getting Top Batsmen of Pakistan\n",
    "\n",
    "print('---------------  Pakistan Batsmen Potential Scores ------------------')\n",
    "print(\"\")\n",
    "for pl in sorted_list :\n",
    "    if(get_player_country(pl)=='Pakistan'):\n",
    "        print(f'{pl} : {sorted_list[pl]}')"
   ]
  },
  {
   "cell_type": "code",
   "execution_count": 35,
   "metadata": {},
   "outputs": [
    {
     "name": "stdout",
     "output_type": "stream",
     "text": [
      "---------------  Australian Batsmen Potential Scores ------------------\n",
      "\n",
      "Travis Head : 333\n",
      "Steven Smith : 304\n",
      "Sean Abbot : 267\n",
      "Mitchel Marsh : 192\n",
      "Marnus Labuschagne : 182\n",
      "Marcus Stoinis : 173\n",
      "Glenn Maxwell : 128\n",
      "David Warner : 112\n",
      "Cameroon Green : 99\n"
     ]
    }
   ],
   "source": [
    "# Getting Top Batsmen of Pakistan\n",
    "\n",
    "print('---------------  Australian Batsmen Potential Scores ------------------')\n",
    "print(\"\")\n",
    "for pl in sorted_list :\n",
    "    if(get_player_country(pl)=='Australia'):\n",
    "        print(f'{pl} : {sorted_list[pl]}')"
   ]
  },
  {
   "cell_type": "code",
   "execution_count": 36,
   "metadata": {},
   "outputs": [
    {
     "name": "stdout",
     "output_type": "stream",
     "text": [
      "---------------  South African Batsmen Potential Scores ------------------\n",
      "\n",
      "Temba Bavuma : 284\n",
      "Reeza Hendricks : 200\n",
      "Rassie van der Dussen : 175\n",
      "Marco Jansen : 135\n",
      "David Miller : 94\n",
      "Aiden Markram : 91\n",
      "Andile Phehlukwayo : 88\n"
     ]
    }
   ],
   "source": [
    "# Getting Top Batsmen of Sauth Africa\n",
    "\n",
    "print('---------------  South African Batsmen Potential Scores ------------------')\n",
    "print(\"\")\n",
    "for pl in sorted_list :\n",
    "    if(get_player_country(pl)=='South Africa'):\n",
    "        print(f'{pl} : {sorted_list[pl]}')"
   ]
  },
  {
   "cell_type": "markdown",
   "metadata": {},
   "source": [
    "We will do similar predictions for bowlers."
   ]
  },
  {
   "cell_type": "code",
   "execution_count": 77,
   "metadata": {},
   "outputs": [],
   "source": [
    "bowler_df['Matches'] = pd.to_numeric(bowler_df['Matches'] , errors = 'coerce')\n",
    "bowler_df['Overs'] = pd.to_numeric(bowler_df['Overs'] , errors = 'coerce')\n",
    "bowler_df['Runs'] = pd.to_numeric(bowler_df['Runs'] , errors = 'coerce')\n",
    "bowler_df['Maidens'] = pd.to_numeric(bowler_df['Maidens'] , errors = 'coerce')\n",
    "bowler_df['Wickets'] = pd.to_numeric(bowler_df['Wickets'] , errors = 'coerce')"
   ]
  },
  {
   "cell_type": "code",
   "execution_count": 78,
   "metadata": {},
   "outputs": [
    {
     "name": "stdout",
     "output_type": "stream",
     "text": [
      "             Player       Country      Opponent  Matches  Overs  Maidens  \\\n",
      "297  Shardul Thakur         India     Australia        5   31.0        1   \n",
      "303  Shardul Thakur         India      Pakistan        3    6.0        0   \n",
      "304  Shardul Thakur         India  South Africa        6   38.5        2   \n",
      "310  Jasprit Bumrah         India     Australia       20  185.3        9   \n",
      "315  Jasprit Bumrah         India      Pakistan        8   51.1        5   \n",
      "316  Jasprit Bumrah         India  South Africa       12   95.0        3   \n",
      "322   Kuldeep Yadav         India     Australia       21  188.0        4   \n",
      "329   Kuldeep Yadav         India      Pakistan        6   45.0        1   \n",
      "330   Kuldeep Yadav         India  South Africa       11   87.2        3   \n",
      "336  Mohammad Shami         India     Australia       24  198.4        8   \n",
      "343  Mohammad Shami         India      Pakistan        3   28.0        5   \n",
      "344  Mohammad Shami         India  South Africa        5   40.0        2   \n",
      "350  Mohammad Siraj         India     Australia        6   41.1        3   \n",
      "356  Mohammad Siraj         India      Pakistan        3   13.0        0   \n",
      "357  Mohammad Siraj         India  South Africa        4   27.0        2   \n",
      "363  Keshav Maharaj  South Africa     Australia        8   73.1        5   \n",
      "366  Keshav Maharaj  South Africa         India        6   54.0        1   \n",
      "370  Keshav Maharaj  South Africa      Pakistan        2   19.0        1   \n",
      "374     Luigi Ngidi  South Africa     Australia        9   74.1        6   \n",
      "377     Luigi Ngidi  South Africa         India       10   82.2        2   \n",
      "381     Luigi Ngidi  South Africa      Pakistan        4   35.4        1   \n",
      "387   Kagiso Rabada  South Africa     Australia       15  122.2        6   \n",
      "390   Kagiso Rabada  South Africa         India       15  137.2        9   \n",
      "394   Kagiso Rabada  South Africa      Pakistan        9   80.1        7   \n",
      "399  Tabraiz Shamsi  South Africa     Australia        8   71.5        2   \n",
      "402  Tabraiz Shamsi  South Africa         India        7   59.0        2   \n",
      "406  Tabraiz Shamsi  South Africa      Pakistan        5   46.0        0   \n",
      "414     Pat Cummins     Australia         India       20  183.4        9   \n",
      "418     Pat Cummins     Australia      Pakistan        8   72.1        3   \n",
      "420     Pat Cummins     Australia  South Africa       12  106.0        6   \n",
      "427      Adam Zampa     Australia         India       22  199.0        1   \n",
      "431      Adam Zampa     Australia      Pakistan       11  106.4        1   \n",
      "432      Adam Zampa     Australia  South Africa       17  145.5        4   \n",
      "440  Mitchell Starc     Australia         India       18  153.3        3   \n",
      "444  Mitchell Starc     Australia      Pakistan       11   99.0        7   \n",
      "446  Mitchell Starc     Australia  South Africa       15  124.3        6   \n",
      "454  Josh Hazlewood     Australia         India       10   90.3        4   \n",
      "457  Josh Hazlewood     Australia      Pakistan        6   58.5        4   \n",
      "458  Josh Hazlewood     Australia  South Africa       16  143.5       12   \n",
      "528      Haris Rauf      Pakistan     Australia        4   34.5        2   \n",
      "531      Haris Rauf      Pakistan         India        3   20.0        0   \n",
      "535      Haris Rauf      Pakistan  South Africa        4   39.0        1   \n",
      "541       Hasan Ali      Pakistan     Australia        8   71.0        1   \n",
      "545       Hasan Ali      Pakistan         India        6   44.3        1   \n",
      "549       Hasan Ali      Pakistan  South Africa        5   42.0        3   \n",
      "555  Shaheen Afridi      Pakistan     Australia        4   38.0        3   \n",
      "558  Shaheen Afridi      Pakistan         India        4   32.0        2   \n",
      "562  Shaheen Afridi      Pakistan  South Africa        9   77.3        3   \n",
      "568       Usama Mir      Pakistan     Australia        1    9.0        0   \n",
      "571       Usama Mir      Pakistan  South Africa        1    8.0        0   \n",
      "574   Md. Wasim Jr.      Pakistan     Australia        3   28.0        1   \n",
      "579   Md. Wasim Jr.      Pakistan  South Africa        1   10.0        1   \n",
      "\n",
      "     Runs  Wickets  Encoded_Player  \n",
      "297   219        3              15  \n",
      "303    28        1              15  \n",
      "304   238        8              15  \n",
      "310   981       28               3  \n",
      "315   232        7               3  \n",
      "316   381       17               3  \n",
      "322  1132       31               7  \n",
      "329   170       12               7  \n",
      "330   395       26               7  \n",
      "336  1201       38              11  \n",
      "343   107        5              11  \n",
      "344   233       13              11  \n",
      "350   273        7              12  \n",
      "356    73        2              12  \n",
      "357   115        6              12  \n",
      "363   311       11               6  \n",
      "366   231        5               6  \n",
      "370   101        3               6  \n",
      "374   371       19               8  \n",
      "377   497       18               8  \n",
      "381   240        5               8  \n",
      "387   724       29               5  \n",
      "390   699       21               5  \n",
      "394   410        7               5  \n",
      "399   361       15              16  \n",
      "402   390        6              16  \n",
      "406   302        9              16  \n",
      "414   963       26              13  \n",
      "418   346       15              13  \n",
      "420   618       17              13  \n",
      "427  1129       34               0  \n",
      "431   589       21               0  \n",
      "432   889       19               0  \n",
      "440   925       27              10  \n",
      "444   480       24              10  \n",
      "446   698       21              10  \n",
      "454   484       15               4  \n",
      "457   264       12               4  \n",
      "458   746       26               4  \n",
      "528   223        8               1  \n",
      "531   128        3               1  \n",
      "535   233        9               1  \n",
      "541   488       13               2  \n",
      "545   292        6               2  \n",
      "549   206        6               2  \n",
      "555   227       13              14  \n",
      "558   192        7              14  \n",
      "562   432       16              14  \n",
      "568    82        1              17  \n",
      "571    45        2              17  \n",
      "574   155        5               9  \n",
      "579    50        2               9  \n"
     ]
    }
   ],
   "source": [
    "label_encoder_bowlers = LabelEncoder()\n",
    "bowler_df['Encoded_Player'] = label_encoder_players.fit_transform(bowler_df['Player'])\n",
    "print(bowler_df)"
   ]
  },
  {
   "cell_type": "code",
   "execution_count": 79,
   "metadata": {},
   "outputs": [
    {
     "name": "stdout",
     "output_type": "stream",
     "text": [
      "             Player       Country      Opponent  Matches  Overs  Maidens  \\\n",
      "297  Shardul Thakur         India     Australia        5   31.0        1   \n",
      "303  Shardul Thakur         India      Pakistan        3    6.0        0   \n",
      "304  Shardul Thakur         India  South Africa        6   38.5        2   \n",
      "310  Jasprit Bumrah         India     Australia       20  185.3        9   \n",
      "315  Jasprit Bumrah         India      Pakistan        8   51.1        5   \n",
      "316  Jasprit Bumrah         India  South Africa       12   95.0        3   \n",
      "322   Kuldeep Yadav         India     Australia       21  188.0        4   \n",
      "329   Kuldeep Yadav         India      Pakistan        6   45.0        1   \n",
      "330   Kuldeep Yadav         India  South Africa       11   87.2        3   \n",
      "336  Mohammad Shami         India     Australia       24  198.4        8   \n",
      "343  Mohammad Shami         India      Pakistan        3   28.0        5   \n",
      "344  Mohammad Shami         India  South Africa        5   40.0        2   \n",
      "350  Mohammad Siraj         India     Australia        6   41.1        3   \n",
      "356  Mohammad Siraj         India      Pakistan        3   13.0        0   \n",
      "357  Mohammad Siraj         India  South Africa        4   27.0        2   \n",
      "363  Keshav Maharaj  South Africa     Australia        8   73.1        5   \n",
      "366  Keshav Maharaj  South Africa         India        6   54.0        1   \n",
      "370  Keshav Maharaj  South Africa      Pakistan        2   19.0        1   \n",
      "374     Luigi Ngidi  South Africa     Australia        9   74.1        6   \n",
      "377     Luigi Ngidi  South Africa         India       10   82.2        2   \n",
      "381     Luigi Ngidi  South Africa      Pakistan        4   35.4        1   \n",
      "387   Kagiso Rabada  South Africa     Australia       15  122.2        6   \n",
      "390   Kagiso Rabada  South Africa         India       15  137.2        9   \n",
      "394   Kagiso Rabada  South Africa      Pakistan        9   80.1        7   \n",
      "399  Tabraiz Shamsi  South Africa     Australia        8   71.5        2   \n",
      "402  Tabraiz Shamsi  South Africa         India        7   59.0        2   \n",
      "406  Tabraiz Shamsi  South Africa      Pakistan        5   46.0        0   \n",
      "414     Pat Cummins     Australia         India       20  183.4        9   \n",
      "418     Pat Cummins     Australia      Pakistan        8   72.1        3   \n",
      "420     Pat Cummins     Australia  South Africa       12  106.0        6   \n",
      "427      Adam Zampa     Australia         India       22  199.0        1   \n",
      "431      Adam Zampa     Australia      Pakistan       11  106.4        1   \n",
      "432      Adam Zampa     Australia  South Africa       17  145.5        4   \n",
      "440  Mitchell Starc     Australia         India       18  153.3        3   \n",
      "444  Mitchell Starc     Australia      Pakistan       11   99.0        7   \n",
      "446  Mitchell Starc     Australia  South Africa       15  124.3        6   \n",
      "454  Josh Hazlewood     Australia         India       10   90.3        4   \n",
      "457  Josh Hazlewood     Australia      Pakistan        6   58.5        4   \n",
      "458  Josh Hazlewood     Australia  South Africa       16  143.5       12   \n",
      "528      Haris Rauf      Pakistan     Australia        4   34.5        2   \n",
      "531      Haris Rauf      Pakistan         India        3   20.0        0   \n",
      "535      Haris Rauf      Pakistan  South Africa        4   39.0        1   \n",
      "541       Hasan Ali      Pakistan     Australia        8   71.0        1   \n",
      "545       Hasan Ali      Pakistan         India        6   44.3        1   \n",
      "549       Hasan Ali      Pakistan  South Africa        5   42.0        3   \n",
      "555  Shaheen Afridi      Pakistan     Australia        4   38.0        3   \n",
      "558  Shaheen Afridi      Pakistan         India        4   32.0        2   \n",
      "562  Shaheen Afridi      Pakistan  South Africa        9   77.3        3   \n",
      "568       Usama Mir      Pakistan     Australia        1    9.0        0   \n",
      "571       Usama Mir      Pakistan  South Africa        1    8.0        0   \n",
      "574   Md. Wasim Jr.      Pakistan     Australia        3   28.0        1   \n",
      "579   Md. Wasim Jr.      Pakistan  South Africa        1   10.0        1   \n",
      "\n",
      "     Runs  Wickets  Encoded_Player  Encoded_Country  Encoded_Opponent  \n",
      "297   219        3              15                1                 0  \n",
      "303    28        1              15                1                 2  \n",
      "304   238        8              15                1                 3  \n",
      "310   981       28               3                1                 0  \n",
      "315   232        7               3                1                 2  \n",
      "316   381       17               3                1                 3  \n",
      "322  1132       31               7                1                 0  \n",
      "329   170       12               7                1                 2  \n",
      "330   395       26               7                1                 3  \n",
      "336  1201       38              11                1                 0  \n",
      "343   107        5              11                1                 2  \n",
      "344   233       13              11                1                 3  \n",
      "350   273        7              12                1                 0  \n",
      "356    73        2              12                1                 2  \n",
      "357   115        6              12                1                 3  \n",
      "363   311       11               6                3                 0  \n",
      "366   231        5               6                3                 1  \n",
      "370   101        3               6                3                 2  \n",
      "374   371       19               8                3                 0  \n",
      "377   497       18               8                3                 1  \n",
      "381   240        5               8                3                 2  \n",
      "387   724       29               5                3                 0  \n",
      "390   699       21               5                3                 1  \n",
      "394   410        7               5                3                 2  \n",
      "399   361       15              16                3                 0  \n",
      "402   390        6              16                3                 1  \n",
      "406   302        9              16                3                 2  \n",
      "414   963       26              13                0                 1  \n",
      "418   346       15              13                0                 2  \n",
      "420   618       17              13                0                 3  \n",
      "427  1129       34               0                0                 1  \n",
      "431   589       21               0                0                 2  \n",
      "432   889       19               0                0                 3  \n",
      "440   925       27              10                0                 1  \n",
      "444   480       24              10                0                 2  \n",
      "446   698       21              10                0                 3  \n",
      "454   484       15               4                0                 1  \n",
      "457   264       12               4                0                 2  \n",
      "458   746       26               4                0                 3  \n",
      "528   223        8               1                2                 0  \n",
      "531   128        3               1                2                 1  \n",
      "535   233        9               1                2                 3  \n",
      "541   488       13               2                2                 0  \n",
      "545   292        6               2                2                 1  \n",
      "549   206        6               2                2                 3  \n",
      "555   227       13              14                2                 0  \n",
      "558   192        7              14                2                 1  \n",
      "562   432       16              14                2                 3  \n",
      "568    82        1              17                2                 0  \n",
      "571    45        2              17                2                 3  \n",
      "574   155        5               9                2                 0  \n",
      "579    50        2               9                2                 3  \n"
     ]
    }
   ],
   "source": [
    "bowler_df['Encoded_Country'] = label_encoder_teams.fit_transform(bowler_df['Country'])\n",
    "bowler_df['Encoded_Opponent'] = label_encoder_teams.fit_transform(bowler_df['Opponent'])\n",
    "\n",
    "print(bowler_df)"
   ]
  },
  {
   "cell_type": "code",
   "execution_count": 80,
   "metadata": {},
   "outputs": [
    {
     "name": "stdout",
     "output_type": "stream",
     "text": [
      "     Encoded_Player  Encoded_Country  Encoded_Opponent  Matches  Wickets\n",
      "297              15                1                 0        5        3\n",
      "303              15                1                 2        3        1\n",
      "304              15                1                 3        6        8\n",
      "310               3                1                 0       20       28\n",
      "315               3                1                 2        8        7\n",
      "316               3                1                 3       12       17\n",
      "322               7                1                 0       21       31\n",
      "329               7                1                 2        6       12\n",
      "330               7                1                 3       11       26\n",
      "336              11                1                 0       24       38\n",
      "343              11                1                 2        3        5\n",
      "344              11                1                 3        5       13\n",
      "350              12                1                 0        6        7\n",
      "356              12                1                 2        3        2\n",
      "357              12                1                 3        4        6\n",
      "363               6                3                 0        8       11\n",
      "366               6                3                 1        6        5\n",
      "370               6                3                 2        2        3\n",
      "374               8                3                 0        9       19\n",
      "377               8                3                 1       10       18\n",
      "381               8                3                 2        4        5\n",
      "387               5                3                 0       15       29\n",
      "390               5                3                 1       15       21\n",
      "394               5                3                 2        9        7\n",
      "399              16                3                 0        8       15\n",
      "402              16                3                 1        7        6\n",
      "406              16                3                 2        5        9\n",
      "414              13                0                 1       20       26\n",
      "418              13                0                 2        8       15\n",
      "420              13                0                 3       12       17\n",
      "427               0                0                 1       22       34\n",
      "431               0                0                 2       11       21\n",
      "432               0                0                 3       17       19\n",
      "440              10                0                 1       18       27\n",
      "444              10                0                 2       11       24\n",
      "446              10                0                 3       15       21\n",
      "454               4                0                 1       10       15\n",
      "457               4                0                 2        6       12\n",
      "458               4                0                 3       16       26\n",
      "528               1                2                 0        4        8\n",
      "531               1                2                 1        3        3\n",
      "535               1                2                 3        4        9\n",
      "541               2                2                 0        8       13\n",
      "545               2                2                 1        6        6\n",
      "549               2                2                 3        5        6\n",
      "555              14                2                 0        4       13\n",
      "558              14                2                 1        4        7\n",
      "562              14                2                 3        9       16\n",
      "568              17                2                 0        1        1\n",
      "571              17                2                 3        1        2\n",
      "574               9                2                 0        3        5\n",
      "579               9                2                 3        1        2\n"
     ]
    }
   ],
   "source": [
    "Bowler_Train_df = bowler_df[['Encoded_Player' , 'Encoded_Country' , 'Encoded_Opponent' , 'Matches' , 'Wickets']]\n",
    "print(Bowler_Train_df)"
   ]
  },
  {
   "cell_type": "code",
   "execution_count": 81,
   "metadata": {},
   "outputs": [],
   "source": [
    "X = Bowler_Train_df[['Encoded_Player' , 'Encoded_Country' , 'Encoded_Opponent' , 'Matches']]\n",
    "y = Bowler_Train_df[['Wickets']]\n",
    "X_train, X_test, y_train, y_test = train_test_split(X, y, test_size=0.2, random_state=42)"
   ]
  },
  {
   "cell_type": "code",
   "execution_count": 82,
   "metadata": {},
   "outputs": [
    {
     "name": "stdout",
     "output_type": "stream",
     "text": [
      "1/1 [==============================] - 0s 31ms/step\n",
      "R-squared on Test Set: 0.838801857131726\n"
     ]
    }
   ],
   "source": [
    "model2 = keras.Sequential([\n",
    "    layers.Dense(64, activation='relu', input_shape=(X_train.shape[1],)),\n",
    "    layers.Dense(128, activation='relu'),\n",
    "    layers.Dense(64, activation='relu'),\n",
    "    layers.Dense(1)\n",
    "])\n",
    "\n",
    "model2.compile(optimizer='adam', loss='mean_squared_error')\n",
    "model2.fit(X_train, y_train, epochs=50, batch_size=32, validation_data=(X_test, y_test), verbose=0)\n",
    "y_pred_dnn = model2.predict(X_test)\n",
    "r2_test = r2_score(y_test, y_pred_dnn)\n",
    "print(f'R-squared on Test Set: {r2_test}')"
   ]
  },
  {
   "cell_type": "code",
   "execution_count": 83,
   "metadata": {},
   "outputs": [
    {
     "name": "stdout",
     "output_type": "stream",
     "text": [
      "             Player  Encoded_Player       Country  Encoded_Country\n",
      "297  Shardul Thakur              15         India                1\n",
      "310  Jasprit Bumrah               3         India                1\n",
      "322   Kuldeep Yadav               7         India                1\n",
      "336  Mohammad Shami              11         India                1\n",
      "350  Mohammad Siraj              12         India                1\n",
      "363  Keshav Maharaj               6  South Africa                3\n",
      "374     Luigi Ngidi               8  South Africa                3\n",
      "387   Kagiso Rabada               5  South Africa                3\n",
      "399  Tabraiz Shamsi              16  South Africa                3\n",
      "414     Pat Cummins              13     Australia                0\n",
      "427      Adam Zampa               0     Australia                0\n",
      "440  Mitchell Starc              10     Australia                0\n",
      "454  Josh Hazlewood               4     Australia                0\n",
      "528      Haris Rauf               1      Pakistan                2\n",
      "541       Hasan Ali               2      Pakistan                2\n",
      "555  Shaheen Afridi              14      Pakistan                2\n",
      "568       Usama Mir              17      Pakistan                2\n",
      "574   Md. Wasim Jr.               9      Pakistan                2\n"
     ]
    }
   ],
   "source": [
    "bowler_country = bowler_df[['Player' , 'Encoded_Player' , 'Country' , 'Encoded_Country']]\n",
    "bowler_country.drop_duplicates(inplace=True)\n",
    "print(bowler_country)"
   ]
  },
  {
   "cell_type": "code",
   "execution_count": 84,
   "metadata": {},
   "outputs": [],
   "source": [
    "# A helper function to get the encoded_country\n",
    "\n",
    "def get_bowler_country(Name):\n",
    "    \n",
    "    for index, row in bowler_country.iterrows():\n",
    "        if(row['Player']==Name) :\n",
    "            return row['Country']\n",
    "    return 'Error'"
   ]
  },
  {
   "cell_type": "code",
   "execution_count": 85,
   "metadata": {},
   "outputs": [
    {
     "name": "stdout",
     "output_type": "stream",
     "text": [
      "1/1 [==============================] - 0s 21ms/step\n",
      "1/1 [==============================] - 0s 29ms/step\n",
      "1/1 [==============================] - 0s 18ms/step\n",
      "1/1 [==============================] - 0s 19ms/step\n",
      "1/1 [==============================] - 0s 27ms/step\n",
      "1/1 [==============================] - 0s 19ms/step\n",
      "1/1 [==============================] - 0s 20ms/step\n",
      "1/1 [==============================] - 0s 21ms/step\n",
      "1/1 [==============================] - 0s 21ms/step\n",
      "1/1 [==============================] - 0s 21ms/step\n",
      "1/1 [==============================] - 0s 21ms/step\n",
      "1/1 [==============================] - 0s 21ms/step\n",
      "1/1 [==============================] - 0s 21ms/step\n",
      "1/1 [==============================] - 0s 21ms/step\n",
      "1/1 [==============================] - 0s 21ms/step\n",
      "1/1 [==============================] - 0s 21ms/step\n",
      "1/1 [==============================] - 0s 20ms/step\n",
      "1/1 [==============================] - 0s 21ms/step\n",
      "1/1 [==============================] - 0s 21ms/step\n",
      "1/1 [==============================] - 0s 17ms/step\n",
      "1/1 [==============================] - 0s 19ms/step\n",
      "1/1 [==============================] - 0s 22ms/step\n",
      "1/1 [==============================] - 0s 21ms/step\n",
      "1/1 [==============================] - 0s 22ms/step\n",
      "1/1 [==============================] - 0s 20ms/step\n",
      "1/1 [==============================] - 0s 21ms/step\n",
      "1/1 [==============================] - 0s 23ms/step\n",
      "1/1 [==============================] - 0s 21ms/step\n",
      "1/1 [==============================] - 0s 22ms/step\n",
      "1/1 [==============================] - 0s 21ms/step\n",
      "1/1 [==============================] - 0s 24ms/step\n",
      "1/1 [==============================] - 0s 20ms/step\n",
      "1/1 [==============================] - 0s 23ms/step\n",
      "1/1 [==============================] - 0s 21ms/step\n",
      "1/1 [==============================] - 0s 21ms/step\n",
      "1/1 [==============================] - 0s 18ms/step\n",
      "1/1 [==============================] - 0s 18ms/step\n",
      "1/1 [==============================] - 0s 18ms/step\n",
      "1/1 [==============================] - 0s 19ms/step\n",
      "1/1 [==============================] - 0s 22ms/step\n",
      "1/1 [==============================] - 0s 22ms/step\n",
      "1/1 [==============================] - 0s 21ms/step\n",
      "1/1 [==============================] - 0s 21ms/step\n",
      "1/1 [==============================] - 0s 28ms/step\n",
      "1/1 [==============================] - 0s 21ms/step\n",
      "1/1 [==============================] - 0s 22ms/step\n",
      "1/1 [==============================] - 0s 17ms/step\n",
      "1/1 [==============================] - 0s 18ms/step\n",
      "1/1 [==============================] - 0s 18ms/step\n",
      "1/1 [==============================] - 0s 18ms/step\n",
      "1/1 [==============================] - 0s 19ms/step\n",
      "1/1 [==============================] - 0s 17ms/step\n",
      "1/1 [==============================] - 0s 20ms/step\n",
      "1/1 [==============================] - 0s 21ms/step\n"
     ]
    }
   ],
   "source": [
    "player_wickets = {}\n",
    "for index , row in bowler_country.iterrows() :\n",
    "    player_wickets[row['Player']] = 0\n",
    "\n",
    "for opponent in Top4 :\n",
    "    for index , row in bowler_country.iterrows() :\n",
    "        if(row['Country']!=opponent) :  \n",
    "            \n",
    "            wickets = model2.predict([[row['Encoded_Player'], row['Encoded_Country'], get_encoded_country(opponent), 1]])\n",
    "            player_wickets[row['Player']]+= (int(wickets[0][0]))    "
   ]
  },
  {
   "cell_type": "code",
   "execution_count": 90,
   "metadata": {},
   "outputs": [
    {
     "name": "stdout",
     "output_type": "stream",
     "text": [
      "-------------Top Potential Wicket takers of India-------------\n",
      "Player : Potential Wickets in playoffs\n",
      "Shardul Thakur : 6\n",
      "Mohammad Siraj : 6\n",
      "Mohammad Shami : 5\n",
      "Kuldeep Yadav : 4\n",
      "Jasprit Bumrah : 3\n"
     ]
    }
   ],
   "source": [
    "sorted_bowlers = OrderedDict(sorted(player_wickets.items(), key=lambda item: item[1], reverse=True))\n",
    "\n",
    "# Getting top wicket takers of India\n",
    "\n",
    "\n",
    "print('-------------Top Potential Wicket takers of India-------------')\n",
    "print('Player : Potential Wickets in playoffs')\n",
    "\n",
    "for pl in sorted_bowlers :\n",
    "    if(get_bowler_country(pl)=='India'):\n",
    "        print(f'{pl} : {sorted_bowlers[pl]}')"
   ]
  },
  {
   "cell_type": "code",
   "execution_count": 91,
   "metadata": {},
   "outputs": [
    {
     "name": "stdout",
     "output_type": "stream",
     "text": [
      "-------------Top Potential Wicket takers of Pakistan-------------\n",
      "Player : Potential Wickets in playoffs\n",
      "Usama Mir : 7\n",
      "Shaheen Afridi : 6\n",
      "Md. Wasim Jr. : 5\n",
      "Haris Rauf : 4\n",
      "Hasan Ali : 4\n"
     ]
    }
   ],
   "source": [
    "# Getting top wicket takers of Pakistan\n",
    "\n",
    "\n",
    "print('-------------Top Potential Wicket takers of Pakistan-------------')\n",
    "print('Player : Potential Wickets in playoffs')\n",
    "\n",
    "for pl in sorted_bowlers :\n",
    "    if(get_bowler_country(pl)=='Pakistan'):\n",
    "        print(f'{pl} : {sorted_bowlers[pl]}')"
   ]
  },
  {
   "cell_type": "code",
   "execution_count": 92,
   "metadata": {},
   "outputs": [
    {
     "name": "stdout",
     "output_type": "stream",
     "text": [
      "-------------Top Potential Wicket takers of Austalia-------------\n",
      "Player : Potential Wickets in playoffs\n",
      "Pat Cummins : 6\n",
      "Mitchell Starc : 5\n",
      "Adam Zampa : 3\n",
      "Josh Hazlewood : 3\n"
     ]
    }
   ],
   "source": [
    "\n",
    "print('-------------Top Potential Wicket takers of Austalia-------------')\n",
    "print('Player : Potential Wickets in playoffs')\n",
    "\n",
    "for pl in sorted_bowlers :\n",
    "    if(get_bowler_country(pl)=='Australia'):\n",
    "        print(f'{pl} : {sorted_bowlers[pl]}')"
   ]
  },
  {
   "cell_type": "code",
   "execution_count": 93,
   "metadata": {},
   "outputs": [
    {
     "name": "stdout",
     "output_type": "stream",
     "text": [
      "------------- Top Potential Wicket takers of South Africa -------------\n",
      "Player : Potential Wickets in playoffs\n",
      "Tabraiz Shamsi : 7\n",
      "Keshav Maharaj : 5\n",
      "Luigi Ngidi : 5\n",
      "Kagiso Rabada : 5\n"
     ]
    }
   ],
   "source": [
    "\n",
    "print('------------- Top Potential Wicket takers of South Africa -------------')\n",
    "print('Player : Potential Wickets in playoffs')\n",
    "\n",
    "for pl in sorted_bowlers :\n",
    "    if(get_bowler_country(pl)=='South Africa'):\n",
    "        print(f'{pl} : {sorted_bowlers[pl]}')"
   ]
  },
  {
   "cell_type": "markdown",
   "metadata": {},
   "source": [
    "Here we have predicted best peforming bowlers and batsmen of All the Top 4 teams. Playing 11 will be selected according to their predicted peformance against other three countries. We know that we also have to consider wicket keepers and all rounders but the request limit is reached for data scrapping that's why we could not scrap data of wicket-keepers and all rounders."
   ]
  }
 ],
 "metadata": {
  "kernelspec": {
   "display_name": "Python 3",
   "language": "python",
   "name": "python3"
  },
  "language_info": {
   "codemirror_mode": {
    "name": "ipython",
    "version": 3
   },
   "file_extension": ".py",
   "mimetype": "text/x-python",
   "name": "python",
   "nbconvert_exporter": "python",
   "pygments_lexer": "ipython3",
   "version": "3.11.1"
  },
  "orig_nbformat": 4
 },
 "nbformat": 4,
 "nbformat_minor": 2
}
